{
 "cells": [
  {
   "cell_type": "markdown",
   "metadata": {},
   "source": [
    "### 组建工具集"
   ]
  },
  {
   "cell_type": "code",
   "execution_count": 1,
   "metadata": {},
   "outputs": [
    {
     "name": "stdout",
     "output_type": "stream",
     "text": [
      "[{'url': 'https://www.weatherapi.com/', 'content': \"{'location': {'name': 'San Francisco', 'region': 'California', 'country': 'United States of America', 'lat': 37.78, 'lon': -122.42, 'tz_id': 'America/Los_Angeles', 'localtime_epoch': 1726073637, 'localtime': '2024-09-11 09:53'}, 'current': {'last_updated_epoch': 1726073100, 'last_updated': '2024-09-11 09:45', 'temp_c': 17.2, 'temp_f': 63.0, 'is_day': 1, 'condition': {'text': 'Partly cloudy', 'icon': '//cdn.weatherapi.com/weather/64x64/day/116.png', 'code': 1003}, 'wind_mph': 3.8, 'wind_kph': 6.1, 'wind_degree': 270, 'wind_dir': 'W', 'pressure_mb': 1012.0, 'pressure_in': 29.88, 'precip_mm': 0.0, 'precip_in': 0.0, 'humidity': 75, 'cloud': 25, 'feelslike_c': 17.2, 'feelslike_f': 63.0, 'windchill_c': 14.7, 'windchill_f': 58.5, 'heatindex_c': 15.1, 'heatindex_f': 59.2, 'dewpoint_c': 11.3, 'dewpoint_f': 52.3, 'vis_km': 16.0, 'vis_miles': 9.0, 'uv': 4.0, 'gust_mph': 10.6, 'gust_kph': 17.1}}\"}, {'url': 'https://www.weathertab.com/en/c/e/09/united-states/california/san-francisco/', 'content': 'Temperature Forecast. Explore comprehensive September 2024 weather forecasts for San Francisco, including daily high and low temperatures, precipitation risks, and monthly temperature trends. Featuring detailed day-by-day forecasts, dynamic graphs of daily rain probabilities, and temperature trends to help you plan ahead.'}]\n"
     ]
    }
   ],
   "source": [
    "from langchain_community.tools.tavily_search import TavilySearchResults\n",
    "\n",
    "search = TavilySearchResults(max_results=2)\n",
    "search_results = search.invoke(\"what is the weather in SF\")\n",
    "print(search_results)\n",
    "tools = [search]"
   ]
  },
  {
   "cell_type": "markdown",
   "metadata": {},
   "source": [
    "### 使用语言模型"
   ]
  },
  {
   "cell_type": "code",
   "execution_count": 5,
   "metadata": {},
   "outputs": [],
   "source": [
    "import os\n",
    "from langchain_openai import AzureChatOpenAI\n",
    "\n",
    "model = AzureChatOpenAI(\n",
    "    azure_endpoint=os.environ[\"L_OPENAI_API_BASE\"],\n",
    "    azure_deployment=os.environ[\"L_OPENAI_API_DEPLOYMENT\"],\n",
    "    openai_api_version=os.environ[\"L_OPENAI_API_VERSION\"],\n",
    "    openai_api_key=os.environ[\"L_OPENAI_API_KEY\"],\n",
    ")"
   ]
  },
  {
   "cell_type": "code",
   "execution_count": 6,
   "metadata": {},
   "outputs": [
    {
     "name": "stdout",
     "output_type": "stream",
     "text": [
      "ContentString: Hello! How can I assist you today?\n",
      "ToolCalls: []\n"
     ]
    }
   ],
   "source": [
    "from langchain_core.messages import HumanMessage\n",
    "model_with_tools = model.bind_tools(tools)\n",
    "response = model_with_tools.invoke([HumanMessage(content=\"Hi! I'm Bob.\")])\n",
    "\n",
    "print(f\"ContentString: {response.content}\")\n",
    "print(f\"ToolCalls: {response.tool_calls}\")"
   ]
  },
  {
   "cell_type": "code",
   "execution_count": 7,
   "metadata": {},
   "outputs": [
    {
     "name": "stdout",
     "output_type": "stream",
     "text": [
      "ContentString: \n",
      "ToolCalls: [{'name': 'tavily_search_results_json', 'args': {'query': 'weather in San Francisco'}, 'id': 'call_MUQhKTz8J6RtU6BP5oYOQgsq', 'type': 'tool_call'}]\n"
     ]
    }
   ],
   "source": [
    "response = model_with_tools.invoke([HumanMessage(content=\"What's the weather in SF?\")])\n",
    "\n",
    "print(f\"ContentString: {response.content}\")\n",
    "print(f\"ToolCalls: {response.tool_calls}\")"
   ]
  },
  {
   "cell_type": "markdown",
   "metadata": {},
   "source": [
    "### 创建 Agent"
   ]
  },
  {
   "cell_type": "code",
   "execution_count": 20,
   "metadata": {},
   "outputs": [],
   "source": [
    "from langgraph.prebuilt import create_react_agent\n",
    "from langgraph.checkpoint.memory import MemorySaver\n",
    "\n",
    "memory = MemorySaver()\n",
    "agent_executor = create_react_agent(model, tools, checkpointer=memory)"
   ]
  },
  {
   "cell_type": "markdown",
   "metadata": {},
   "source": [
    "### 运行"
   ]
  },
  {
   "cell_type": "code",
   "execution_count": 21,
   "metadata": {},
   "outputs": [
    {
     "data": {
      "text/plain": [
       "[HumanMessage(content=\"Hi! I'm John.\", id='d477131f-bcdd-4bb0-9187-b23abb5ac121'),\n",
       " AIMessage(content='Hello John! How can I assist you today?', response_metadata={'token_usage': {'completion_tokens': 11, 'prompt_tokens': 87, 'total_tokens': 98}, 'model_name': 'gpt-35-turbo', 'system_fingerprint': None, 'finish_reason': 'stop', 'logprobs': None, 'content_filter_results': {}}, id='run-2053601b-01e9-4fef-afff-476dcba4728c-0', usage_metadata={'input_tokens': 87, 'output_tokens': 11, 'total_tokens': 98})]"
      ]
     },
     "execution_count": 21,
     "metadata": {},
     "output_type": "execute_result"
    }
   ],
   "source": [
    "config = {\"configurable\": {\"thread_id\": \"john123\"}}\n",
    "response = agent_executor.invoke({\"messages\": [HumanMessage(content=\"Hi! I'm John.\")]}, config)\n",
    "\n",
    "response[\"messages\"]"
   ]
  },
  {
   "cell_type": "code",
   "execution_count": 22,
   "metadata": {},
   "outputs": [
    {
     "data": {
      "text/plain": [
       "[HumanMessage(content=\"Hi! I'm John.\", id='d477131f-bcdd-4bb0-9187-b23abb5ac121'),\n",
       " AIMessage(content='Hello John! How can I assist you today?', response_metadata={'token_usage': {'completion_tokens': 11, 'prompt_tokens': 87, 'total_tokens': 98}, 'model_name': 'gpt-35-turbo', 'system_fingerprint': None, 'finish_reason': 'stop', 'logprobs': None, 'content_filter_results': {}}, id='run-2053601b-01e9-4fef-afff-476dcba4728c-0', usage_metadata={'input_tokens': 87, 'output_tokens': 11, 'total_tokens': 98}),\n",
       " HumanMessage(content='Do you know my name?', id='0aa4a164-0811-4110-96bc-b9d2fe5bbd87'),\n",
       " AIMessage(content='Yes, you mentioned that your name is John. How can I help you, John?', response_metadata={'token_usage': {'completion_tokens': 19, 'prompt_tokens': 111, 'total_tokens': 130}, 'model_name': 'gpt-35-turbo', 'system_fingerprint': None, 'finish_reason': 'stop', 'logprobs': None, 'content_filter_results': {}}, id='run-8f823ca2-f47f-4f4d-9f36-d489708fb09e-0', usage_metadata={'input_tokens': 111, 'output_tokens': 19, 'total_tokens': 130})]"
      ]
     },
     "execution_count": 22,
     "metadata": {},
     "output_type": "execute_result"
    }
   ],
   "source": [
    "config = {\"configurable\": {\"thread_id\": \"john123\"}}\n",
    "response = agent_executor.invoke(\n",
    "    {\"messages\": [HumanMessage(content=\"Do you know my name?\")]}, config\n",
    ")\n",
    "response[\"messages\"]"
   ]
  },
  {
   "cell_type": "code",
   "execution_count": 15,
   "metadata": {},
   "outputs": [
    {
     "data": {
      "text/plain": [
       "[HumanMessage(content='whats the weather in sf?', id='4d4801c2-3d70-44d5-ab62-c51eb9874835'),\n",
       " AIMessage(content='', additional_kwargs={'tool_calls': [{'id': 'call_WGQWzWysNojwZYVcR3a5Cn8S', 'function': {'arguments': '{\\n  \"query\": \"weather in San Francisco\"\\n}', 'name': 'tavily_search_results_json'}, 'type': 'function'}]}, response_metadata={'token_usage': {'completion_tokens': 22, 'prompt_tokens': 88, 'total_tokens': 110}, 'model_name': 'gpt-35-turbo', 'system_fingerprint': None, 'finish_reason': 'tool_calls', 'logprobs': None, 'content_filter_results': {}}, id='run-0e64d068-f0f6-4a4d-b5f1-7a0db3ca5b54-0', tool_calls=[{'name': 'tavily_search_results_json', 'args': {'query': 'weather in San Francisco'}, 'id': 'call_WGQWzWysNojwZYVcR3a5Cn8S', 'type': 'tool_call'}], usage_metadata={'input_tokens': 88, 'output_tokens': 22, 'total_tokens': 110}),\n",
       " ToolMessage(content='[{\"url\": \"https://www.weatherapi.com/\", \"content\": \"{\\'location\\': {\\'name\\': \\'San Francisco\\', \\'region\\': \\'California\\', \\'country\\': \\'United States of America\\', \\'lat\\': 37.78, \\'lon\\': -122.42, \\'tz_id\\': \\'America/Los_Angeles\\', \\'localtime_epoch\\': 1726077112, \\'localtime\\': \\'2024-09-11 10:51\\'}, \\'current\\': {\\'last_updated_epoch\\': 1726076700, \\'last_updated\\': \\'2024-09-11 10:45\\', \\'temp_c\\': 18.3, \\'temp_f\\': 64.9, \\'is_day\\': 1, \\'condition\\': {\\'text\\': \\'Partly cloudy\\', \\'icon\\': \\'//cdn.weatherapi.com/weather/64x64/day/116.png\\', \\'code\\': 1003}, \\'wind_mph\\': 10.5, \\'wind_kph\\': 16.9, \\'wind_degree\\': 250, \\'wind_dir\\': \\'WSW\\', \\'pressure_mb\\': 1012.0, \\'pressure_in\\': 29.89, \\'precip_mm\\': 0.0, \\'precip_in\\': 0.0, \\'humidity\\': 70, \\'cloud\\': 25, \\'feelslike_c\\': 18.3, \\'feelslike_f\\': 64.9, \\'windchill_c\\': 15.9, \\'windchill_f\\': 60.7, \\'heatindex_c\\': 16.1, \\'heatindex_f\\': 61.0, \\'dewpoint_c\\': 11.2, \\'dewpoint_f\\': 52.2, \\'vis_km\\': 16.0, \\'vis_miles\\': 9.0, \\'uv\\': 5.0, \\'gust_mph\\': 10.7, \\'gust_kph\\': 17.2}}\"}, {\"url\": \"https://tgftp.nws.noaa.gov/weather/current/KSFO.html\", \"content\": \"The starting point for official government weather forecasts, warnings, meteorological products for forecasting the weather, and information about meteorology. ... Search : Current Weather Conditions: SAN FRANCISCO INTERNATIONAL AIRPORT , CA, United States : NWS Point Forecast for KSFO (KSFO) 37-37N 122-22W 26M Conditions at ... 2024 - 01:56 PM ...\"}]', name='tavily_search_results_json', id='bf11eb96-52e1-473e-8516-28a2784a8f7b', tool_call_id='call_WGQWzWysNojwZYVcR3a5Cn8S', artifact={'query': 'weather in San Francisco', 'follow_up_questions': None, 'answer': None, 'images': [], 'results': [{'title': 'Weather in San Francisco', 'url': 'https://www.weatherapi.com/', 'content': \"{'location': {'name': 'San Francisco', 'region': 'California', 'country': 'United States of America', 'lat': 37.78, 'lon': -122.42, 'tz_id': 'America/Los_Angeles', 'localtime_epoch': 1726077112, 'localtime': '2024-09-11 10:51'}, 'current': {'last_updated_epoch': 1726076700, 'last_updated': '2024-09-11 10:45', 'temp_c': 18.3, 'temp_f': 64.9, 'is_day': 1, 'condition': {'text': 'Partly cloudy', 'icon': '//cdn.weatherapi.com/weather/64x64/day/116.png', 'code': 1003}, 'wind_mph': 10.5, 'wind_kph': 16.9, 'wind_degree': 250, 'wind_dir': 'WSW', 'pressure_mb': 1012.0, 'pressure_in': 29.89, 'precip_mm': 0.0, 'precip_in': 0.0, 'humidity': 70, 'cloud': 25, 'feelslike_c': 18.3, 'feelslike_f': 64.9, 'windchill_c': 15.9, 'windchill_f': 60.7, 'heatindex_c': 16.1, 'heatindex_f': 61.0, 'dewpoint_c': 11.2, 'dewpoint_f': 52.2, 'vis_km': 16.0, 'vis_miles': 9.0, 'uv': 5.0, 'gust_mph': 10.7, 'gust_kph': 17.2}}\", 'score': 0.9980328, 'raw_content': None}, {'title': 'Current Weather Conditions:', 'url': 'https://tgftp.nws.noaa.gov/weather/current/KSFO.html', 'content': 'The starting point for official government weather forecasts, warnings, meteorological products for forecasting the weather, and information about meteorology. ... Search : Current Weather Conditions: SAN FRANCISCO INTERNATIONAL AIRPORT , CA, United States : NWS Point Forecast for KSFO (KSFO) 37-37N 122-22W 26M Conditions at ... 2024 - 01:56 PM ...', 'score': 0.9883127, 'raw_content': None}], 'response_time': 4.03}),\n",
       " AIMessage(content=\"The current weather in San Francisco is partly cloudy with a temperature of 64.9°F (18.3°C). The wind is blowing at 10.5 mph (16.9 kph) from the west-southwest. The humidity is 70% and there is a 25% cloud cover. The visibility is 9.0 miles (16.0 km). Please note that weather conditions can change rapidly, so it's always a good idea to check for the latest updates.\", response_metadata={'token_usage': {'completion_tokens': 102, 'prompt_tokens': 636, 'total_tokens': 738}, 'model_name': 'gpt-35-turbo', 'system_fingerprint': None, 'finish_reason': 'stop', 'logprobs': None, 'content_filter_results': {}}, id='run-8f0b41db-8244-4184-8ba7-97c7dbff22d1-0', usage_metadata={'input_tokens': 636, 'output_tokens': 102, 'total_tokens': 738})]"
      ]
     },
     "execution_count": 15,
     "metadata": {},
     "output_type": "execute_result"
    }
   ],
   "source": [
    "config = {\"configurable\": {\"thread_id\": \"bob123\"}}\n",
    "response = agent_executor.invoke(\n",
    "    {\"messages\": [HumanMessage(content=\"whats the weather in sf?\")]}, config\n",
    ")\n",
    "response[\"messages\"]"
   ]
  },
  {
   "cell_type": "code",
   "execution_count": 16,
   "metadata": {},
   "outputs": [
    {
     "data": {
      "text/plain": [
       "[HumanMessage(content='whats my name?', id='a85c8c26-ddb1-4df1-af5c-0e2d9445dbbd'),\n",
       " AIMessage(content=\"I'm sorry, but I don't know your name. I'm an AI assistant and I don't have access to personal information.\", response_metadata={'token_usage': {'completion_tokens': 28, 'prompt_tokens': 86, 'total_tokens': 114}, 'model_name': 'gpt-35-turbo', 'system_fingerprint': None, 'finish_reason': 'stop', 'logprobs': None, 'content_filter_results': {}}, id='run-b53c83da-9f3e-450b-b948-1f63d15b23e9-0', usage_metadata={'input_tokens': 86, 'output_tokens': 28, 'total_tokens': 114})]"
      ]
     },
     "execution_count": 16,
     "metadata": {},
     "output_type": "execute_result"
    }
   ],
   "source": [
    "config = {\"configurable\": {\"thread_id\": \"bob123\"}}\n",
    "response = agent_executor.invoke(\n",
    "    {\"messages\": [HumanMessage(content=\"whats my name?\")]}, config\n",
    ")\n",
    "response[\"messages\"]"
   ]
  },
  {
   "cell_type": "markdown",
   "metadata": {},
   "source": []
  }
 ],
 "metadata": {
  "kernelspec": {
   "display_name": "langchain-demo-agent-a5VnvcuB",
   "language": "python",
   "name": "python3"
  },
  "language_info": {
   "codemirror_mode": {
    "name": "ipython",
    "version": 3
   },
   "file_extension": ".py",
   "mimetype": "text/x-python",
   "name": "python",
   "nbconvert_exporter": "python",
   "pygments_lexer": "ipython3",
   "version": "3.11.6"
  }
 },
 "nbformat": 4,
 "nbformat_minor": 2
}
