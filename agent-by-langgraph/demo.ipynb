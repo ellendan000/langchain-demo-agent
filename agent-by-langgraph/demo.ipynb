{
 "cells": [
  {
   "cell_type": "markdown",
   "metadata": {},
   "source": [
    "### 初始化"
   ]
  },
  {
   "cell_type": "code",
   "execution_count": 27,
   "metadata": {},
   "outputs": [],
   "source": [
    "from typing import Annotated\n",
    "\n",
    "from typing_extensions import TypedDict\n",
    "\n",
    "from langgraph.graph import StateGraph, START, END\n",
    "from langgraph.graph.message import add_messages\n",
    "\n",
    "\n",
    "class State(TypedDict):\n",
    "    messages: Annotated[list, add_messages]\n",
    "\n",
    "\n",
    "graph_builder = StateGraph(State)"
   ]
  },
  {
   "cell_type": "markdown",
   "metadata": {},
   "source": [
    "### 添加 chatbot 节点"
   ]
  },
  {
   "cell_type": "code",
   "execution_count": 28,
   "metadata": {},
   "outputs": [],
   "source": [
    "import os\n",
    "from langchain_openai import AzureChatOpenAI\n",
    "from langchain_community.tools.tavily_search import TavilySearchResults\n",
    "\n",
    "tool = TavilySearchResults(max_results=2)\n",
    "tools = [tool]\n",
    "\n",
    "llm = AzureChatOpenAI(\n",
    "    azure_endpoint=os.environ[\"L_OPENAI_API_BASE\"],\n",
    "    azure_deployment=os.environ[\"L_OPENAI_API_DEPLOYMENT\"],\n",
    "    openai_api_version=os.environ[\"L_OPENAI_API_VERSION\"],\n",
    "    openai_api_key=os.environ[\"L_OPENAI_API_KEY\"],\n",
    ")\n",
    "llm_with_tools = llm.bind_tools(tools)\n",
    "\n",
    "\n",
    "def chatbot(state: State):\n",
    "    return {\"messages\": [llm_with_tools.invoke(state[\"messages\"])]}\n",
    "graph_builder.add_node(\"chatbot\", chatbot)"
   ]
  },
  {
   "cell_type": "markdown",
   "metadata": {},
   "source": [
    "### 添加工具集节点"
   ]
  },
  {
   "cell_type": "code",
   "execution_count": 29,
   "metadata": {},
   "outputs": [],
   "source": [
    "from langgraph.prebuilt import ToolNode\n",
    "\n",
    "tool_node = ToolNode(tools=[tool])\n",
    "graph_builder.add_node(\"tools\", tool_node)"
   ]
  },
  {
   "cell_type": "markdown",
   "metadata": {},
   "source": [
    "### 绘制路径"
   ]
  },
  {
   "cell_type": "code",
   "execution_count": 30,
   "metadata": {},
   "outputs": [],
   "source": [
    "from langgraph.prebuilt import tools_condition\n",
    "\n",
    "graph_builder.add_edge(START, \"chatbot\")\n",
    "graph_builder.add_conditional_edges(\n",
    "    \"chatbot\",\n",
    "    tools_condition,\n",
    ")\n",
    "graph_builder.add_edge(\"tools\", \"chatbot\")"
   ]
  },
  {
   "cell_type": "markdown",
   "metadata": {},
   "source": [
    "### 编译 Graph"
   ]
  },
  {
   "cell_type": "code",
   "execution_count": 31,
   "metadata": {},
   "outputs": [],
   "source": [
    "from langgraph.checkpoint.memory import MemorySaver\n",
    "\n",
    "memory = MemorySaver()\n",
    "graph = graph_builder.compile(checkpointer=memory)"
   ]
  },
  {
   "cell_type": "markdown",
   "metadata": {},
   "source": [
    "### 运行"
   ]
  },
  {
   "cell_type": "code",
   "execution_count": 35,
   "metadata": {},
   "outputs": [
    {
     "name": "stdout",
     "output_type": "stream",
     "text": [
      "================================\u001b[1m Human Message \u001b[0m=================================\n",
      "\n",
      "你好\n",
      "==================================\u001b[1m Ai Message \u001b[0m==================================\n",
      "\n",
      "你好！有什么我可以帮助你的吗？\n",
      "================================\u001b[1m Human Message \u001b[0m=================================\n",
      "\n",
      "我叫小红\n",
      "==================================\u001b[1m Ai Message \u001b[0m==================================\n",
      "\n",
      "很高兴认识你，小红！有什么我可以帮助你的吗？\n",
      "================================\u001b[1m Human Message \u001b[0m=================================\n",
      "\n",
      "你会唱歌吗\n",
      "==================================\u001b[1m Ai Message \u001b[0m==================================\n",
      "\n",
      "作为一个文本助手，我无法直接唱歌。但是我可以提供歌词或者歌曲推荐给你。如果你有任何特定的歌曲或者歌手，可以告诉我，我会尽力帮助你。\n",
      "================================\u001b[1m Human Message \u001b[0m=================================\n",
      "\n",
      "你还记得我叫什么吗？\n",
      "==================================\u001b[1m Ai Message \u001b[0m==================================\n",
      "\n",
      "是的，你刚刚告诉我你叫小红。有什么我可以帮助你的吗，小红？\n",
      "Goodbye!\n"
     ]
    }
   ],
   "source": [
    "config = {\"configurable\": {\"thread_id\": \"1\"}}\n",
    "while True:\n",
    "    user_input = input(\"User: \")\n",
    "    if user_input.lower() in [\"quit\", \"exit\", \"q\"]:\n",
    "        print(\"Goodbye!\")\n",
    "        break\n",
    "    for event in graph.stream({\"messages\": (\"user\", user_input)}, config, stream_mode=\"values\"):\n",
    "        event[\"messages\"][-1].pretty_print()\n",
    "    # for event in graph.stream({\"messages\": (\"user\", user_input)}, config):\n",
    "    #     for value in event.values():\n",
    "    #         if isinstance(value[\"messages\"][-1], BaseMessage):\n",
    "    #             print(\"Assistant:\", value[\"messages\"][-1].content)\n"
   ]
  },
  {
   "cell_type": "markdown",
   "metadata": {},
   "source": [
    "### 打印 Graph"
   ]
  },
  {
   "cell_type": "code",
   "execution_count": 33,
   "metadata": {},
   "outputs": [
    {
     "data": {
      "image/jpeg": "[encoded data removed]",
      "text/plain": [
       "<IPython.core.display.Image object>"
      ]
     },
     "metadata": {},
     "output_type": "display_data"
    }
   ],
   "source": [
    "from IPython.display import Image, display\n",
    "\n",
    "try:\n",
    "    display(Image(graph.get_graph().draw_mermaid_png()))\n",
    "except Exception:\n",
    "    # This requires some extra dependencies and is optional\n",
    "    pass"
   ]
  },
  {
   "cell_type": "markdown",
   "metadata": {},
   "source": [
    "### 读取 state"
   ]
  },
  {
   "cell_type": "code",
   "execution_count": 36,
   "metadata": {},
   "outputs": [
    {
     "data": {
      "text/plain": [
       "StateSnapshot(values={'messages': [HumanMessage(content='你好', id='6dd2b2b9-b7d0-4a71-b2ea-60faa9b02452'), AIMessage(content='你好！有什么我可以帮助你的吗？', response_metadata={'token_usage': {'completion_tokens': 19, 'prompt_tokens': 83, 'total_tokens': 102}, 'model_name': 'gpt-35-turbo', 'system_fingerprint': None, 'finish_reason': 'stop', 'logprobs': None, 'content_filter_results': {}}, id='run-1818e92c-d219-47b6-b800-ee0ba56918cd-0', usage_metadata={'input_tokens': 83, 'output_tokens': 19, 'total_tokens': 102}), HumanMessage(content='你好', id='416275e5-0342-4fc2-9d89-4a8ee40cd76c'), AIMessage(content='你好！有什么我可以帮助你的吗？', response_metadata={'token_usage': {'completion_tokens': 19, 'prompt_tokens': 111, 'total_tokens': 130}, 'model_name': 'gpt-35-turbo', 'system_fingerprint': None, 'finish_reason': 'stop', 'logprobs': None, 'content_filter_results': {}}, id='run-da06a68f-9382-439a-a4f8-de8dea9a3e0d-0', usage_metadata={'input_tokens': 111, 'output_tokens': 19, 'total_tokens': 130}), HumanMessage(content='我叫小红', id='0a4e5178-9526-4073-bc78-c2be37a4f755'), AIMessage(content='很高兴认识你，小红！有什么我可以帮助你的吗？', response_metadata={'token_usage': {'completion_tokens': 30, 'prompt_tokens': 143, 'total_tokens': 173}, 'model_name': 'gpt-35-turbo', 'system_fingerprint': None, 'finish_reason': 'stop', 'logprobs': None, 'content_filter_results': {}}, id='run-75ad0453-30d0-4b08-b815-d100fcb2f098-0', usage_metadata={'input_tokens': 143, 'output_tokens': 30, 'total_tokens': 173}), HumanMessage(content='你会唱歌吗', id='b866f216-11f6-4c41-af51-174bb3db7b32'), AIMessage(content='作为一个文本助手，我无法直接唱歌。但是我可以提供歌词或者歌曲推荐给你。如果你有任何特定的歌曲或者歌手，可以告诉我，我会尽力帮助你。', response_metadata={'token_usage': {'completion_tokens': 77, 'prompt_tokens': 188, 'total_tokens': 265}, 'model_name': 'gpt-35-turbo', 'system_fingerprint': None, 'finish_reason': 'stop', 'logprobs': None, 'content_filter_results': {}}, id='run-ec4dacb0-a30c-4c67-ada2-c97c25331733-0', usage_metadata={'input_tokens': 188, 'output_tokens': 77, 'total_tokens': 265}), HumanMessage(content='你还记得我叫什么吗？', id='c77846a0-ea0b-451e-aff7-bd1975a9cd0a'), AIMessage(content='是的，你刚刚告诉我你叫小红。有什么我可以帮助你的吗，小红？', response_metadata={'token_usage': {'completion_tokens': 39, 'prompt_tokens': 285, 'total_tokens': 324}, 'model_name': 'gpt-35-turbo', 'system_fingerprint': None, 'finish_reason': 'stop', 'logprobs': None, 'content_filter_results': {}}, id='run-4db88591-cb73-4de0-bb5c-dac3895a68c7-0', usage_metadata={'input_tokens': 285, 'output_tokens': 39, 'total_tokens': 324})]}, next=(), config={'configurable': {'thread_id': '1', 'checkpoint_ns': '', 'checkpoint_id': '1ef70d27-4686-6412-800d-b0d1f7987823'}}, metadata={'source': 'loop', 'writes': {'chatbot': {'messages': [AIMessage(content='是的，你刚刚告诉我你叫小红。有什么我可以帮助你的吗，小红？', response_metadata={'token_usage': {'completion_tokens': 39, 'prompt_tokens': 285, 'total_tokens': 324}, 'model_name': 'gpt-35-turbo', 'system_fingerprint': None, 'finish_reason': 'stop', 'logprobs': None, 'content_filter_results': {}}, id='run-4db88591-cb73-4de0-bb5c-dac3895a68c7-0', usage_metadata={'input_tokens': 285, 'output_tokens': 39, 'total_tokens': 324})]}}, 'step': 13, 'parents': {}}, created_at='2024-09-12T06:44:27.021598+00:00', parent_config={'configurable': {'thread_id': '1', 'checkpoint_ns': '', 'checkpoint_id': '1ef70d27-2abf-6486-800c-d76d77471d96'}}, tasks=())"
      ]
     },
     "execution_count": 36,
     "metadata": {},
     "output_type": "execute_result"
    }
   ],
   "source": [
    "snapshot = graph.get_state(config)\n",
    "snapshot"
   ]
  },
  {
   "cell_type": "markdown",
   "metadata": {},
   "source": []
  }
 ],
 "metadata": {
  "kernelspec": {
   "display_name": "langchain-demo-agent-a5VnvcuB",
   "language": "python",
   "name": "python3"
  },
  "language_info": {
   "codemirror_mode": {
    "name": "ipython",
    "version": 3
   },
   "file_extension": ".py",
   "mimetype": "text/x-python",
   "name": "python",
   "nbconvert_exporter": "python",
   "pygments_lexer": "ipython3",
   "version": "3.11.6"
  }
 },
 "nbformat": 4,
 "nbformat_minor": 2
}
